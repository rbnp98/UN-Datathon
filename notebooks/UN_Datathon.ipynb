{
  "nbformat": 4,
  "nbformat_minor": 0,
  "metadata": {
    "colab": {
      "provenance": [],
      "toc_visible": true
    },
    "kernelspec": {
      "name": "python3",
      "display_name": "Python 3"
    },
    "language_info": {
      "name": "python"
    }
  },
  "cells": [
    {
      "cell_type": "markdown",
      "source": [
        "# Recommending Assistance to the needy based coping strategies\n",
        "\n",
        "**Objective:** To predict the likelihood of a single or a set of coping strategies selected by a respondent based on the shocks that the respondents have faced and recommend the appropriate assistance for early planning and decision-making"
      ],
      "metadata": {
        "id": "CdkYAoNzE7Ws"
      }
    },
    {
      "cell_type": "markdown",
      "source": [
        "## Setting up antigranular"
      ],
      "metadata": {
        "id": "EiiTCSihHCnt"
      }
    },
    {
      "cell_type": "code",
      "execution_count": 30,
      "metadata": {
        "colab": {
          "base_uri": "https://localhost:8080/"
        },
        "id": "qpK8vVTeIWPg",
        "outputId": "33c71176-5180-4a48-b70d-488fd32c2f53"
      },
      "outputs": [
        {
          "output_type": "stream",
          "name": "stdout",
          "text": [
            "Requirement already satisfied: antigranular in /usr/local/lib/python3.10/dist-packages (0.2.12)\n",
            "Requirement already satisfied: diffprivlib<0.7.0,>=0.6.2 in /usr/local/lib/python3.10/dist-packages (from antigranular) (0.6.3)\n",
            "Requirement already satisfied: ipython<8.0.0,>=7.34.0 in /usr/local/lib/python3.10/dist-packages (from antigranular) (7.34.0)\n",
            "Requirement already satisfied: oblv-client<0.2.0,>=0.1.15 in /usr/local/lib/python3.10/dist-packages (from antigranular) (0.1.15)\n",
            "Requirement already satisfied: onnx<2.0.0,>=1.14.0 in /usr/local/lib/python3.10/dist-packages (from antigranular) (1.15.0)\n",
            "Requirement already satisfied: pandas<2.0.0,>=1.5.3 in /usr/local/lib/python3.10/dist-packages (from antigranular) (1.5.3)\n",
            "Requirement already satisfied: pydantic<2.0.0,>=1.10.7 in /usr/local/lib/python3.10/dist-packages (from antigranular) (1.10.13)\n",
            "Requirement already satisfied: requests<3.0.0,>=2.31.0 in /usr/local/lib/python3.10/dist-packages (from antigranular) (2.31.0)\n",
            "Requirement already satisfied: numpy>=1.21.6 in /usr/local/lib/python3.10/dist-packages (from diffprivlib<0.7.0,>=0.6.2->antigranular) (1.23.5)\n",
            "Requirement already satisfied: scikit-learn>=0.24.2 in /usr/local/lib/python3.10/dist-packages (from diffprivlib<0.7.0,>=0.6.2->antigranular) (1.2.2)\n",
            "Requirement already satisfied: scipy>=1.7.3 in /usr/local/lib/python3.10/dist-packages (from diffprivlib<0.7.0,>=0.6.2->antigranular) (1.11.3)\n",
            "Requirement already satisfied: joblib>=0.16.0 in /usr/local/lib/python3.10/dist-packages (from diffprivlib<0.7.0,>=0.6.2->antigranular) (1.3.2)\n",
            "Requirement already satisfied: setuptools>=49.0.0 in /usr/local/lib/python3.10/dist-packages (from diffprivlib<0.7.0,>=0.6.2->antigranular) (67.7.2)\n",
            "Requirement already satisfied: jedi>=0.16 in /usr/local/lib/python3.10/dist-packages (from ipython<8.0.0,>=7.34.0->antigranular) (0.19.1)\n",
            "Requirement already satisfied: decorator in /usr/local/lib/python3.10/dist-packages (from ipython<8.0.0,>=7.34.0->antigranular) (4.4.2)\n",
            "Requirement already satisfied: pickleshare in /usr/local/lib/python3.10/dist-packages (from ipython<8.0.0,>=7.34.0->antigranular) (0.7.5)\n",
            "Requirement already satisfied: traitlets>=4.2 in /usr/local/lib/python3.10/dist-packages (from ipython<8.0.0,>=7.34.0->antigranular) (5.7.1)\n",
            "Requirement already satisfied: prompt-toolkit!=3.0.0,!=3.0.1,<3.1.0,>=2.0.0 in /usr/local/lib/python3.10/dist-packages (from ipython<8.0.0,>=7.34.0->antigranular) (3.0.39)\n",
            "Requirement already satisfied: pygments in /usr/local/lib/python3.10/dist-packages (from ipython<8.0.0,>=7.34.0->antigranular) (2.16.1)\n",
            "Requirement already satisfied: backcall in /usr/local/lib/python3.10/dist-packages (from ipython<8.0.0,>=7.34.0->antigranular) (0.2.0)\n",
            "Requirement already satisfied: matplotlib-inline in /usr/local/lib/python3.10/dist-packages (from ipython<8.0.0,>=7.34.0->antigranular) (0.1.6)\n",
            "Requirement already satisfied: pexpect>4.3 in /usr/local/lib/python3.10/dist-packages (from ipython<8.0.0,>=7.34.0->antigranular) (4.8.0)\n",
            "Requirement already satisfied: urllib3 in /usr/local/lib/python3.10/dist-packages (from oblv-client<0.2.0,>=0.1.15->antigranular) (2.0.7)\n",
            "Requirement already satisfied: protobuf>=3.20.2 in /usr/local/lib/python3.10/dist-packages (from onnx<2.0.0,>=1.14.0->antigranular) (3.20.3)\n",
            "Requirement already satisfied: python-dateutil>=2.8.1 in /usr/local/lib/python3.10/dist-packages (from pandas<2.0.0,>=1.5.3->antigranular) (2.8.2)\n",
            "Requirement already satisfied: pytz>=2020.1 in /usr/local/lib/python3.10/dist-packages (from pandas<2.0.0,>=1.5.3->antigranular) (2023.3.post1)\n",
            "Requirement already satisfied: typing-extensions>=4.2.0 in /usr/local/lib/python3.10/dist-packages (from pydantic<2.0.0,>=1.10.7->antigranular) (4.5.0)\n",
            "Requirement already satisfied: charset-normalizer<4,>=2 in /usr/local/lib/python3.10/dist-packages (from requests<3.0.0,>=2.31.0->antigranular) (3.3.1)\n",
            "Requirement already satisfied: idna<4,>=2.5 in /usr/local/lib/python3.10/dist-packages (from requests<3.0.0,>=2.31.0->antigranular) (3.4)\n",
            "Requirement already satisfied: certifi>=2017.4.17 in /usr/local/lib/python3.10/dist-packages (from requests<3.0.0,>=2.31.0->antigranular) (2023.7.22)\n",
            "Requirement already satisfied: parso<0.9.0,>=0.8.3 in /usr/local/lib/python3.10/dist-packages (from jedi>=0.16->ipython<8.0.0,>=7.34.0->antigranular) (0.8.3)\n",
            "Requirement already satisfied: ptyprocess>=0.5 in /usr/local/lib/python3.10/dist-packages (from pexpect>4.3->ipython<8.0.0,>=7.34.0->antigranular) (0.7.0)\n",
            "Requirement already satisfied: wcwidth in /usr/local/lib/python3.10/dist-packages (from prompt-toolkit!=3.0.0,!=3.0.1,<3.1.0,>=2.0.0->ipython<8.0.0,>=7.34.0->antigranular) (0.2.8)\n",
            "Requirement already satisfied: six>=1.5 in /usr/local/lib/python3.10/dist-packages (from python-dateutil>=2.8.1->pandas<2.0.0,>=1.5.3->antigranular) (1.16.0)\n",
            "Requirement already satisfied: threadpoolctl>=2.0.0 in /usr/local/lib/python3.10/dist-packages (from scikit-learn>=0.24.2->diffprivlib<0.7.0,>=0.6.2->antigranular) (3.2.0)\n"
          ]
        }
      ],
      "source": [
        "!pip install antigranular"
      ]
    },
    {
      "cell_type": "code",
      "source": [
        "import antigranular as ag\n",
        "session = ag.login(\"Iu++I502WDr1co4pPxwlHUgdHYfdsXw7\", \"Nm8hkS5PoyVTtaWS2GOv7CPcS9PFYR97xTm2RhDNSNV7bntFAfCj4r3iA0sqgPci\", competition = \"UN Datathon PETs Track\")"
      ],
      "metadata": {
        "id": "wtd3FRc6Ii7D",
        "colab": {
          "base_uri": "https://localhost:8080/",
          "height": 69
        },
        "outputId": "d58d83b6-6153-4b29-bf61-033fa08c9277"
      },
      "execution_count": 31,
      "outputs": [
        {
          "output_type": "display_data",
          "data": {
            "text/plain": [
              "<IPython.core.display.HTML object>"
            ],
            "text/html": []
          },
          "metadata": {}
        },
        {
          "output_type": "stream",
          "name": "stdout",
          "text": [
            "Connected to Antigranular server session id: 4c92c332-052f-4c41-a42d-8f07d65dbc9d, the session will time out if idle for 60 minutes\n",
            "Cell magic '%%ag' registered successfully, use `%%ag` in a notebook cell to execute your python code on Antigranular private python server\n",
            "🚀 Everything's set up and ready to roll!\n"
          ]
        }
      ]
    },
    {
      "cell_type": "markdown",
      "source": [
        "### Privacy Odometer"
      ],
      "metadata": {
        "id": "csWDarFLHaE0"
      }
    },
    {
      "cell_type": "code",
      "source": [
        "session.privacy_odometer()"
      ],
      "metadata": {
        "colab": {
          "base_uri": "https://localhost:8080/"
        },
        "id": "E9H97VzRJ0Ox",
        "outputId": "b235f0d4-0350-471a-b311-2905ad23eb83"
      },
      "execution_count": 32,
      "outputs": [
        {
          "output_type": "execute_result",
          "data": {
            "text/plain": [
              "{'total_epsilon_used': 0.011999999999999985,\n",
              " 'total_delta_used': 0.0,\n",
              " 'library_costs': {'op_pandas': {'total_delta': 0,\n",
              "   'total_epsilon': 0.011999999999999985,\n",
              "   'total_requests': 7}},\n",
              " 'dataset_costs': {'undata_cs': {'delta': 0, 'eps': 0.011999999999999985}}}"
            ]
          },
          "metadata": {},
          "execution_count": 32
        }
      ]
    },
    {
      "cell_type": "markdown",
      "source": [
        "## Loading shock data"
      ],
      "metadata": {
        "id": "qGgXp8suHpR2"
      }
    },
    {
      "cell_type": "code",
      "source": [
        "%%ag\n",
        "shock_data = load_dataset(\"undata_shock\")\n",
        "ag_print(shock_data.columns)\n",
        "ag_print(shock_data.metadata)\n",
        "ag_print(shock_data.dtypes)"
      ],
      "metadata": {
        "id": "YstOFVWCJVAZ",
        "colab": {
          "base_uri": "https://localhost:8080/"
        },
        "outputId": "b0d636bb-b2d7-467c-9e22-15cb6c562984"
      },
      "execution_count": 34,
      "outputs": [
        {
          "output_type": "stream",
          "name": "stdout",
          "text": [
            "Index(['objectid', 'shock_noshock', 'shock_sicknessordeathofhh',\n",
            "       'shock_lostemplorwork', 'shock_otherintrahhshock',\n",
            "       'shock_higherfoodprices', 'shock_higherfuelprices', 'shock_mvtrestrict',\n",
            "       'shock_othereconomicshock', 'shock_pestoutbreak', 'shock_plantdisease',\n",
            "       'shock_animaldisease', 'shock_napasture', 'shock_othercropandlivests',\n",
            "       'shock_coldtemporhail', 'shock_flood', 'shock_hurricane',\n",
            "       'shock_drought', 'shock_earthquake', 'shock_landslides',\n",
            "       'shock_firenatural', 'shock_othernathazard', 'shock_violenceinsecconf',\n",
            "       'shock_theftofprodassets', 'shock_firemanmade',\n",
            "       'shock_othermanmadehazard', 'shock_dk', 'shock_ref'],\n",
            "      dtype='object')\n",
            "{'objectid': (3496, 239871), 'shock_noshock': (0.0, 1.0), 'shock_sicknessordeathofhh': (0.0, 1.0), 'shock_lostemplorwork': (0.0, 1.0), 'shock_otherintrahhshock': (0.0, 1.0), 'shock_higherfoodprices': (0.0, 1.0), 'shock_higherfuelprices': (0.0, 1.0), 'shock_mvtrestrict': (0.0, 1.0), 'shock_othereconomicshock': (0.0, 1.0), 'shock_pestoutbreak': (0.0, 1.0), 'shock_plantdisease': (0.0, 1.0), 'shock_animaldisease': (0.0, 1.0), 'shock_napasture': (0.0, 1.0), 'shock_othercropandlivests': (0.0, 1.0), 'shock_coldtemporhail': (0.0, 1.0), 'shock_flood': (0.0, 1.0), 'shock_hurricane': (0.0, 1.0), 'shock_drought': (0.0, 1.0), 'shock_earthquake': (0.0, 1.0), 'shock_landslides': (0.0, 1.0), 'shock_firenatural': (0.0, 1.0), 'shock_othernathazard': (0.0, 1.0), 'shock_violenceinsecconf': (0.0, 1.0), 'shock_theftofprodassets': (0.0, 1.0), 'shock_firemanmade': (0.0, 1.0), 'shock_othermanmadehazard': (0.0, 1.0), 'shock_dk': (0.0, 1.0), 'shock_ref': (0.0, 1.0)}\n",
            "objectid                       int64\n",
            "shock_noshock                float64\n",
            "shock_sicknessordeathofhh    float64\n",
            "shock_lostemplorwork         float64\n",
            "shock_otherintrahhshock      float64\n",
            "shock_higherfoodprices       float64\n",
            "shock_higherfuelprices       float64\n",
            "shock_mvtrestrict            float64\n",
            "shock_othereconomicshock     float64\n",
            "shock_pestoutbreak           float64\n",
            "shock_plantdisease           float64\n",
            "shock_animaldisease          float64\n",
            "shock_napasture              float64\n",
            "shock_othercropandlivests    float64\n",
            "shock_coldtemporhail         float64\n",
            "shock_flood                  float64\n",
            "shock_hurricane              float64\n",
            "shock_drought                float64\n",
            "shock_earthquake             float64\n",
            "shock_landslides             float64\n",
            "shock_firenatural            float64\n",
            "shock_othernathazard         float64\n",
            "shock_violenceinsecconf      float64\n",
            "shock_theftofprodassets      float64\n",
            "shock_firemanmade            float64\n",
            "shock_othermanmadehazard     float64\n",
            "shock_dk                     float64\n",
            "shock_ref                    float64\n",
            "dtype: object\n",
            "\n"
          ]
        }
      ]
    },
    {
      "cell_type": "markdown",
      "source": [
        "## Verifying multiple shocks can happen at the same time\n",
        "\n",
        "- We are assuming that multiple shocks can occur simultaneously for a household. However to move forward with our problem, we need to verify that the problem actually exists.\n",
        "\n",
        "- So we find the row-wise sum and if the sum > 1, it means that multiple shocks have occured to one household respondent."
      ],
      "metadata": {
        "id": "2wnx_1zvyaWO"
      }
    },
    {
      "cell_type": "code",
      "source": [
        "# Get data with binary shock variables only\n",
        "%%ag\n",
        "columns = list(shock_data.columns[2:-2])\n",
        "shock_only = shock_data[columns]\n",
        "ag_print(shock_only.columns)"
      ],
      "metadata": {
        "id": "NEUFWWEnopm3",
        "colab": {
          "base_uri": "https://localhost:8080/"
        },
        "outputId": "8cb2e159-2b6c-4ebd-f8a3-1ccac051cd66"
      },
      "execution_count": 35,
      "outputs": [
        {
          "output_type": "stream",
          "name": "stdout",
          "text": [
            "Index(['shock_sicknessordeathofhh', 'shock_lostemplorwork',\n",
            "       'shock_otherintrahhshock', 'shock_higherfoodprices',\n",
            "       'shock_higherfuelprices', 'shock_mvtrestrict',\n",
            "       'shock_othereconomicshock', 'shock_pestoutbreak', 'shock_plantdisease',\n",
            "       'shock_animaldisease', 'shock_napasture', 'shock_othercropandlivests',\n",
            "       'shock_coldtemporhail', 'shock_flood', 'shock_hurricane',\n",
            "       'shock_drought', 'shock_earthquake', 'shock_landslides',\n",
            "       'shock_firenatural', 'shock_othernathazard', 'shock_violenceinsecconf',\n",
            "       'shock_theftofprodassets', 'shock_firemanmade',\n",
            "       'shock_othermanmadehazard'],\n",
            "      dtype='object')\n",
            "\n"
          ]
        },
        {
          "output_type": "stream",
          "name": "stderr",
          "text": [
            "/code/dependencies/op_pandas/op_pandas/core/private_dataframe.py:115: SettingWithCopyWarning: \n",
            "A value is trying to be set on a copy of a slice from a DataFrame\n",
            "\n",
            "See the caveats in the documentation: https://pandas.pydata.org/pandas-docs/stable/user_guide/indexing.html#returning-a-view-versus-a-copy\n",
            "  self._df[col].clip(lower=self._metadata[col][0], upper=self._metadata[col][1], inplace=True)\n",
            "\n"
          ]
        }
      ]
    },
    {
      "cell_type": "code",
      "source": [
        "%%ag\n",
        "\n",
        "# Row-wise sum\n",
        "total_shocks = shock_only.sum(axis=1, eps=0.5)\n",
        "\n",
        "# Find if more than 1 shock can happen in each sample (row) and find the sum those samples\n",
        "total_shocks_gt_1 = (total_shocks > 1).sum(eps=0.5)\n",
        "export(total_shocks_gt_1, 'total_shocks_gt_1')"
      ],
      "metadata": {
        "id": "X0JbD02yKE5S",
        "colab": {
          "base_uri": "https://localhost:8080/"
        },
        "outputId": "4567a5be-d971-444c-a73f-ec2d74564181"
      },
      "execution_count": 36,
      "outputs": [
        {
          "output_type": "stream",
          "name": "stdout",
          "text": [
            "Setting up exported variable in local environment: total_shocks_gt_1\n"
          ]
        }
      ]
    },
    {
      "cell_type": "code",
      "source": [
        "total_shocks_gt_1"
      ],
      "metadata": {
        "id": "iaXNSjFRugbU",
        "colab": {
          "base_uri": "https://localhost:8080/"
        },
        "outputId": "93288988-c1f8-45a6-e850-70bd4a9c4db8"
      },
      "execution_count": 37,
      "outputs": [
        {
          "output_type": "execute_result",
          "data": {
            "text/plain": [
              "33533.404196544856"
            ]
          },
          "metadata": {},
          "execution_count": 37
        }
      ]
    },
    {
      "cell_type": "markdown",
      "source": [
        "Verified."
      ],
      "metadata": {
        "id": "FQZqa4wEzATp"
      }
    },
    {
      "cell_type": "markdown",
      "source": [
        "## Filtering only shock data\n",
        "- Select only relevant columns from shock data"
      ],
      "metadata": {
        "id": "6xYmmlrGzaRb"
      }
    },
    {
      "cell_type": "code",
      "source": [
        "%%ag\n",
        "shock_yes_data = shock_data.where((shock_data['shock_noshock'] == 1) & (shock_data['shock_dk'] == 0) & (shock_data['shock_ref'] == 0))[[\n",
        "       'objectid', 'shock_sicknessordeathofhh',\n",
        "       'shock_lostemplorwork', 'shock_otherintrahhshock',\n",
        "       'shock_higherfoodprices', 'shock_higherfuelprices', 'shock_mvtrestrict',\n",
        "       'shock_othereconomicshock', 'shock_pestoutbreak', 'shock_plantdisease',\n",
        "       'shock_animaldisease', 'shock_napasture', 'shock_othercropandlivests',\n",
        "       'shock_coldtemporhail', 'shock_flood', 'shock_hurricane',\n",
        "       'shock_drought', 'shock_earthquake', 'shock_landslides',\n",
        "       'shock_firenatural', 'shock_othernathazard', 'shock_violenceinsecconf',\n",
        "       'shock_theftofprodassets', 'shock_firemanmade',\n",
        "       'shock_othermanmadehazard'\n",
        "]].dropna()\n",
        "ag_print(shock_yes_data.columns)\n",
        "ag_print(shock_yes_data.metadata)"
      ],
      "metadata": {
        "colab": {
          "base_uri": "https://localhost:8080/"
        },
        "id": "0MMQtdA8jC1c",
        "outputId": "3d396e5d-c7c7-45ba-d3b6-43cfdf9181ed"
      },
      "execution_count": 38,
      "outputs": [
        {
          "output_type": "stream",
          "name": "stdout",
          "text": [
            "Index(['objectid', 'shock_sicknessordeathofhh', 'shock_lostemplorwork',\n",
            "       'shock_otherintrahhshock', 'shock_higherfoodprices',\n",
            "       'shock_higherfuelprices', 'shock_mvtrestrict',\n",
            "       'shock_othereconomicshock', 'shock_pestoutbreak', 'shock_plantdisease',\n",
            "       'shock_animaldisease', 'shock_napasture', 'shock_othercropandlivests',\n",
            "       'shock_coldtemporhail', 'shock_flood', 'shock_hurricane',\n",
            "       'shock_drought', 'shock_earthquake', 'shock_landslides',\n",
            "       'shock_firenatural', 'shock_othernathazard', 'shock_violenceinsecconf',\n",
            "       'shock_theftofprodassets', 'shock_firemanmade',\n",
            "       'shock_othermanmadehazard'],\n",
            "      dtype='object')\n",
            "{'objectid': (3496, 239871), 'shock_sicknessordeathofhh': (0.0, 1.0), 'shock_lostemplorwork': (0.0, 1.0), 'shock_otherintrahhshock': (0.0, 1.0), 'shock_higherfoodprices': (0.0, 1.0), 'shock_higherfuelprices': (0.0, 1.0), 'shock_mvtrestrict': (0.0, 1.0), 'shock_othereconomicshock': (0.0, 1.0), 'shock_pestoutbreak': (0.0, 1.0), 'shock_plantdisease': (0.0, 1.0), 'shock_animaldisease': (0.0, 1.0), 'shock_napasture': (0.0, 1.0), 'shock_othercropandlivests': (0.0, 1.0), 'shock_coldtemporhail': (0.0, 1.0), 'shock_flood': (0.0, 1.0), 'shock_hurricane': (0.0, 1.0), 'shock_drought': (0.0, 1.0), 'shock_earthquake': (0.0, 1.0), 'shock_landslides': (0.0, 1.0), 'shock_firenatural': (0.0, 1.0), 'shock_othernathazard': (0.0, 1.0), 'shock_violenceinsecconf': (0.0, 1.0), 'shock_theftofprodassets': (0.0, 1.0), 'shock_firemanmade': (0.0, 1.0), 'shock_othermanmadehazard': (0.0, 1.0)}\n",
            "\n"
          ]
        },
        {
          "output_type": "stream",
          "name": "stderr",
          "text": [
            "/code/dependencies/op_pandas/op_pandas/core/private_dataframe.py:115: SettingWithCopyWarning: \n",
            "A value is trying to be set on a copy of a slice from a DataFrame\n",
            "\n",
            "See the caveats in the documentation: https://pandas.pydata.org/pandas-docs/stable/user_guide/indexing.html#returning-a-view-versus-a-copy\n",
            "  self._df[col].clip(lower=self._metadata[col][0], upper=self._metadata[col][1], inplace=True)\n",
            "\n"
          ]
        }
      ]
    },
    {
      "cell_type": "markdown",
      "source": [
        "We also verify that all the columns are binary 0 or 1 variables"
      ],
      "metadata": {
        "id": "bEm1mrzgJdLk"
      }
    },
    {
      "cell_type": "markdown",
      "source": [
        "## Load coping strategies data"
      ],
      "metadata": {
        "id": "P8mvVfLS5kYp"
      }
    },
    {
      "cell_type": "code",
      "source": [
        "%%ag\n",
        "cs_data = load_dataset(\"undata_cs\")\n",
        "ag_print(cs_data.columns)\n",
        "ag_print(cs_data.metadata)\n",
        "ag_print(cs_data.dtypes)"
      ],
      "metadata": {
        "colab": {
          "base_uri": "https://localhost:8080/"
        },
        "id": "BFp5Knlw1d7s",
        "outputId": "b99db380-d689-493d-ac6f-c4b93e418849"
      },
      "execution_count": 39,
      "outputs": [
        {
          "output_type": "stream",
          "name": "stdout",
          "text": [
            "Index(['objectid', 'cs_hh_assets', 'cs_spent_savings', 'cs_sold_more_animals',\n",
            "       'cs_eat_elsewhere', 'cs_borrowed_or_helped', 'cs_credit',\n",
            "       'cs_borrowed_money', 'cs_changed_school', 'cs_sold_prod_assets',\n",
            "       'cs_no_school', 'cs_reduced_health_exp', 'cs_harv_immature_crops',\n",
            "       'cs_consume_seed_stock', 'cs_decrease_input_exp', 'cs_sold_house',\n",
            "       'cs_begged', 'cs_illegal', 'cs_sold_last_female', 'cs_hh_migration'],\n",
            "      dtype='object')\n",
            "{'objectid': (3496, 239871), 'cs_hh_assets': (0.0, 999.0), 'cs_spent_savings': (0.0, 999.0), 'cs_sold_more_animals': (1.0, 999.0), 'cs_eat_elsewhere': (0.0, 999.0), 'cs_borrowed_or_helped': (0.0, 999.0), 'cs_credit': (0.0, 999.0), 'cs_borrowed_money': (1.0, 999.0), 'cs_changed_school': (0.0, 999.0), 'cs_sold_prod_assets': (1.0, 999.0), 'cs_no_school': (0.0, 999.0), 'cs_reduced_health_exp': (0.0, 999.0), 'cs_harv_immature_crops': (0.0, 999.0), 'cs_consume_seed_stock': (0.0, 999.0), 'cs_decrease_input_exp': (0.0, 999.0), 'cs_sold_house': (0.0, 999.0), 'cs_begged': (1.0, 999.0), 'cs_illegal': (0.0, 999.0), 'cs_sold_last_female': (0.0, 999.0), 'cs_hh_migration': (0.0, 999.0)}\n",
            "objectid                    int64\n",
            "cs_hh_assets              float64\n",
            "cs_spent_savings          float64\n",
            "cs_sold_more_animals      float64\n",
            "cs_eat_elsewhere          float64\n",
            "cs_borrowed_or_helped     float64\n",
            "cs_credit                 float64\n",
            "cs_borrowed_money         float64\n",
            "cs_changed_school         float64\n",
            "cs_sold_prod_assets       float64\n",
            "cs_no_school              float64\n",
            "cs_reduced_health_exp     float64\n",
            "cs_harv_immature_crops    float64\n",
            "cs_consume_seed_stock     float64\n",
            "cs_decrease_input_exp     float64\n",
            "cs_sold_house             float64\n",
            "cs_begged                 float64\n",
            "cs_illegal                float64\n",
            "cs_sold_last_female       float64\n",
            "cs_hh_migration           float64\n",
            "dtype: object\n",
            "\n"
          ]
        }
      ]
    },
    {
      "cell_type": "markdown",
      "source": [
        "We can see that the coping strategy columns are not binary like shocks."
      ],
      "metadata": {
        "id": "FG6GJhvxKBmm"
      }
    },
    {
      "cell_type": "markdown",
      "source": [
        "### Filtering only the coping strategies that the respondents used\n",
        "- Select the samples who used atleast one coping strategy"
      ],
      "metadata": {
        "id": "yvolEyYOJ5mt"
      }
    },
    {
      "cell_type": "code",
      "source": [
        "%%ag\n",
        "cs_filtered = cs_data.where((cs_data['cs_hh_assets'] == 1) |\n",
        "                            (cs_data['cs_spent_savings'] == 1) |\n",
        "                            (cs_data['cs_sold_more_animals'] == 1) |\n",
        "                            (cs_data['cs_eat_elsewhere'] == 1) |\n",
        "                            (cs_data['cs_borrowed_or_helped'] == 1) |\n",
        "                            (cs_data['cs_credit'] == 1) |\n",
        "                            (cs_data['cs_borrowed_money'] == 1) |\n",
        "                            (cs_data['cs_changed_school'] == 1) |\n",
        "                            (cs_data['cs_sold_prod_assets'] == 1) |\n",
        "                            (cs_data['cs_reduced_health_exp'] == 1) |\n",
        "                            (cs_data['cs_harv_immature_crops'] == 1) |\n",
        "                            (cs_data['cs_consume_seed_stock'] == 1) |\n",
        "                            (cs_data['cs_decrease_input_exp'] == 1) |\n",
        "                            (cs_data['cs_sold_house'] == 1) |\n",
        "                            (cs_data['cs_begged'] == 1) |\n",
        "                            (cs_data['cs_illegal'] == 1) |\n",
        "                            (cs_data['cs_sold_last_female'] == 1) |\n",
        "                            (cs_data['cs_hh_migration'] == 1) |\n",
        "                            (cs_data['cs_no_school'] == 1) ).dropna()\n",
        "ag_print(cs_filtered.columns)"
      ],
      "metadata": {
        "colab": {
          "base_uri": "https://localhost:8080/"
        },
        "id": "SDwOe6H9-FI1",
        "outputId": "dedbf7bc-ae0d-47d8-feff-b4c2440874a3"
      },
      "execution_count": 59,
      "outputs": [
        {
          "output_type": "stream",
          "name": "stdout",
          "text": [
            "Index(['objectid', 'cs_hh_assets', 'cs_spent_savings', 'cs_sold_more_animals',\n",
            "       'cs_eat_elsewhere', 'cs_borrowed_or_helped', 'cs_credit',\n",
            "       'cs_borrowed_money', 'cs_changed_school', 'cs_sold_prod_assets',\n",
            "       'cs_no_school', 'cs_reduced_health_exp', 'cs_harv_immature_crops',\n",
            "       'cs_consume_seed_stock', 'cs_decrease_input_exp', 'cs_sold_house',\n",
            "       'cs_begged', 'cs_illegal', 'cs_sold_last_female', 'cs_hh_migration'],\n",
            "      dtype='object')\n",
            "\n"
          ]
        },
        {
          "output_type": "stream",
          "name": "stderr",
          "text": [
            "/code/dependencies/op_pandas/op_pandas/core/private_dataframe.py:115: SettingWithCopyWarning: \n",
            "A value is trying to be set on a copy of a slice from a DataFrame\n",
            "\n",
            "See the caveats in the documentation: https://pandas.pydata.org/pandas-docs/stable/user_guide/indexing.html#returning-a-view-versus-a-copy\n",
            "  self._df[col].clip(lower=self._metadata[col][0], upper=self._metadata[col][1], inplace=True)\n",
            "\n"
          ]
        }
      ]
    },
    {
      "cell_type": "markdown",
      "source": [
        "Apart from 1, we also have 2, 3, 4, 888, and 999 as response, all of which basically means they did not use the coping strategy."
      ],
      "metadata": {
        "id": "vnIFem_rK5l4"
      }
    },
    {
      "cell_type": "code",
      "source": [
        "%%ag\n",
        "def make_zero(x:int) -> int:\n",
        "  if x == 1:\n",
        "    return 1\n",
        "  else:\n",
        "    return 0\n",
        "\n",
        "cs_filtered[list(cs_filtered.columns[1:])] = cs_filtered[list(cs_filtered.columns[1:])].applymap(lambda x: x if x==1 else 0, eps=0.1)\n",
        "ag_print(cs_filtered.metadata)"
      ],
      "metadata": {
        "colab": {
          "base_uri": "https://localhost:8080/"
        },
        "id": "qVLizLWuK5Ni",
        "outputId": "cc3ed76b-7544-4a19-a0d6-80f15d0c87ad"
      },
      "execution_count": 60,
      "outputs": [
        {
          "output_type": "stream",
          "name": "stderr",
          "text": [
            "/code/dependencies/op_pandas/op_pandas/core/private_dataframe.py:115: SettingWithCopyWarning: \n",
            "A value is trying to be set on a copy of a slice from a DataFrame\n",
            "\n",
            "See the caveats in the documentation: https://pandas.pydata.org/pandas-docs/stable/user_guide/indexing.html#returning-a-view-versus-a-copy\n",
            "  self._df[col].clip(lower=self._metadata[col][0], upper=self._metadata[col][1], inplace=True)\n",
            "\n"
          ]
        },
        {
          "output_type": "stream",
          "name": "stdout",
          "text": [
            "{'objectid': (3496, 239871), 'cs_hh_assets': (0.0, 1.0), 'cs_spent_savings': (1.0, 2.0), 'cs_sold_more_animals': (0.0, 1.0), 'cs_eat_elsewhere': (0.0, 1.0), 'cs_borrowed_or_helped': (1.0, 2.0), 'cs_credit': (0.0, 1.0), 'cs_borrowed_money': (1.0, 2.0), 'cs_changed_school': (0.0, 1.0), 'cs_sold_prod_assets': (0.0, 1.0), 'cs_no_school': (0.0, 1.0), 'cs_reduced_health_exp': (0.0, 1.0), 'cs_harv_immature_crops': (0.0, 1.0), 'cs_consume_seed_stock': (0.0, 1.0), 'cs_decrease_input_exp': (0.0, 1.0), 'cs_sold_house': (0.0, 1.0), 'cs_begged': (0.0, 1.0), 'cs_illegal': (0.0, 1.0), 'cs_sold_last_female': (0.0, 1.0), 'cs_hh_migration': (0.0, 1.0)}\n",
            "\n"
          ]
        }
      ]
    },
    {
      "cell_type": "markdown",
      "source": [
        "We have now changed the coping strategies to binary 0 or 1 as well"
      ],
      "metadata": {
        "id": "FFxbdkUqPYcS"
      }
    },
    {
      "cell_type": "markdown",
      "source": [
        "## Checking if multiple coping strategies are used or not"
      ],
      "metadata": {
        "id": "wuWYK3mjPxwS"
      }
    },
    {
      "cell_type": "code",
      "source": [
        "%%ag\n",
        "total_cs = cs_filtered.sum(axis=1, eps=0.01)\n",
        "\n",
        "# Find if more than 1 shock can happen in each sample (row) and find the sum of the > 1 shocks samples\n",
        "total_cs_gt_1 = (total_cs > 1).sum(eps=0.01)\n",
        "export(total_cs_gt_1, 'total_cs_gt_1')"
      ],
      "metadata": {
        "colab": {
          "base_uri": "https://localhost:8080/"
        },
        "id": "oEskTXSJJ5_n",
        "outputId": "c6ee509d-d62a-4ec8-a507-5cd0ee858bc2"
      },
      "execution_count": 61,
      "outputs": [
        {
          "output_type": "stream",
          "name": "stdout",
          "text": [
            "Setting up exported variable in local environment: total_cs_gt_1\n"
          ]
        }
      ]
    },
    {
      "cell_type": "code",
      "source": [
        "total_cs_gt_1"
      ],
      "metadata": {
        "id": "zU0KYEzmKO6R",
        "outputId": "8fa46063-6635-4c47-fbd7-b2782bc77e27",
        "colab": {
          "base_uri": "https://localhost:8080/"
        }
      },
      "execution_count": 62,
      "outputs": [
        {
          "output_type": "execute_result",
          "data": {
            "text/plain": [
              "7209.0"
            ]
          },
          "metadata": {},
          "execution_count": 62
        }
      ]
    },
    {
      "cell_type": "markdown",
      "source": [
        "Verified"
      ],
      "metadata": {
        "id": "W73Gj0utQAv5"
      }
    },
    {
      "cell_type": "markdown",
      "source": [
        "## Merge shock and cs data on object info\n",
        "- Merging the shocks and coping strategies to create our initial dataset"
      ],
      "metadata": {
        "id": "-eYYqsZN6Nzu"
      }
    },
    {
      "cell_type": "code",
      "source": [
        "%%ag\n",
        "import op_pandas\n",
        "shock_cs = op_pandas.merge(shock_yes_data, cs_filtered, on=\"objectid\", how=\"inner\")\n",
        "ag_print(shock_cs.columns)"
      ],
      "metadata": {
        "colab": {
          "base_uri": "https://localhost:8080/"
        },
        "id": "OpDpr7QL54ba",
        "outputId": "cc93e778-fd53-4ecf-a5c8-106328bc0519"
      },
      "execution_count": 66,
      "outputs": [
        {
          "output_type": "stream",
          "name": "stdout",
          "text": [
            "Index(['objectid', 'shock_sicknessordeathofhh', 'shock_lostemplorwork',\n",
            "       'shock_otherintrahhshock', 'shock_higherfoodprices',\n",
            "       'shock_higherfuelprices', 'shock_mvtrestrict',\n",
            "       'shock_othereconomicshock', 'shock_pestoutbreak', 'shock_plantdisease',\n",
            "       'shock_animaldisease', 'shock_napasture', 'shock_othercropandlivests',\n",
            "       'shock_coldtemporhail', 'shock_flood', 'shock_hurricane',\n",
            "       'shock_drought', 'shock_earthquake', 'shock_landslides',\n",
            "       'shock_firenatural', 'shock_othernathazard', 'shock_violenceinsecconf',\n",
            "       'shock_theftofprodassets', 'shock_firemanmade',\n",
            "       'shock_othermanmadehazard', 'cs_hh_assets', 'cs_spent_savings',\n",
            "       'cs_sold_more_animals', 'cs_eat_elsewhere', 'cs_borrowed_or_helped',\n",
            "       'cs_credit', 'cs_borrowed_money', 'cs_changed_school',\n",
            "       'cs_sold_prod_assets', 'cs_no_school', 'cs_reduced_health_exp',\n",
            "       'cs_harv_immature_crops', 'cs_consume_seed_stock',\n",
            "       'cs_decrease_input_exp', 'cs_sold_house', 'cs_begged', 'cs_illegal',\n",
            "       'cs_sold_last_female', 'cs_hh_migration'],\n",
            "      dtype='object')\n",
            "\n"
          ]
        }
      ]
    },
    {
      "cell_type": "markdown",
      "source": [
        "## Modeling\n",
        "\n",
        "- We try to build a Naive Bayes model that can take in the shock events as the features and predict the probability of the different coping strategies\n",
        "\n",
        "- Based on the predicted probabilities we can make proper plan and roadmap to provide appropriate assistance to the households"
      ],
      "metadata": {
        "id": "f8GdrVL7Q4u9"
      }
    },
    {
      "cell_type": "markdown",
      "source": [
        "## Label Encoding the coping strategies to use as our Target\n",
        "- Current coping strategies are one hot encoded\n",
        "- To analyze and model the data further we need to label encode them. For instance creating visualization and building Naive Bayes Model requires label encoded targets"
      ],
      "metadata": {
        "id": "KywUCXoKQz6d"
      }
    },
    {
      "cell_type": "markdown",
      "source": [
        "We first try replacing the 1 in the dataset with corresponding strategy name. For that we tried running a for loop for each column and modify that column"
      ],
      "metadata": {
        "id": "wYbVYDeeSLCj"
      }
    },
    {
      "cell_type": "code",
      "source": [
        "%%ag\n",
        "def return_label(x:int | float, column:str) -> str:\n",
        "  if x==1:\n",
        "    return column\n",
        "  else:\n",
        "    return ''"
      ],
      "metadata": {
        "id": "s8G7ESPsLWI5"
      },
      "execution_count": 70,
      "outputs": []
    },
    {
      "cell_type": "code",
      "source": [
        "%%ag\n",
        "for column in shock_cs.columns:\n",
        "  if column.startswith(\"cs_\"):\n",
        "    col_name = str(column.copy())\n",
        "    shock_cs[column] = shock_cs[col_name].map(lambda x: return_label(x, col_name), eps=0.01)"
      ],
      "metadata": {
        "id": "IeWoy39-oMLx",
        "colab": {
          "base_uri": "https://localhost:8080/"
        },
        "outputId": "d3e808c7-e2e6-4f2f-bbf3-ba19a169ada5"
      },
      "execution_count": 75,
      "outputs": [
        {
          "output_type": "stream",
          "name": "stderr",
          "text": [
            "UsageError: Calling a non whitelisted Global method: col_name\n",
            "\n"
          ]
        }
      ]
    },
    {
      "cell_type": "markdown",
      "source": [
        "Since this did not woerk we ran the function for each column manually"
      ],
      "metadata": {
        "id": "4Tn_8rHlTYf8"
      }
    },
    {
      "cell_type": "code",
      "source": [
        "# %%ag\n",
        "# def return_label(x:int | float, column:str) -> str:\n",
        "#   if x==1:\n",
        "#     return column\n",
        "#   else:\n",
        "#     return ''\n",
        "# shock_cs['cs_hh_migration_l'] = shock_cs['cs_hh_migration'].map(return_label, eps=0.01)"
      ],
      "metadata": {
        "id": "z8WvR0Rpfhlc"
      },
      "execution_count": null,
      "outputs": []
    },
    {
      "cell_type": "code",
      "source": [
        "%%ag\n",
        "ag_print(shock_cs.columns)"
      ],
      "metadata": {
        "id": "i4YoDvOvIDC5",
        "colab": {
          "base_uri": "https://localhost:8080/"
        },
        "outputId": "bc0b7fd3-1fe4-4b6e-fc5f-00c81ef7b85d"
      },
      "execution_count": null,
      "outputs": [
        {
          "output_type": "stream",
          "name": "stdout",
          "text": [
            "Index(['objectid', 'shock_sicknessordeathofhh', 'shock_lostemplorwork',\n",
            "       'shock_otherintrahhshock', 'shock_higherfoodprices',\n",
            "       'shock_higherfuelprices', 'shock_mvtrestrict',\n",
            "       'shock_othereconomicshock', 'shock_pestoutbreak', 'shock_plantdisease',\n",
            "       'shock_animaldisease', 'shock_napasture', 'shock_othercropandlivests',\n",
            "       'shock_coldtemporhail', 'shock_flood', 'shock_hurricane',\n",
            "       'shock_drought', 'shock_earthquake', 'shock_landslides',\n",
            "       'shock_firenatural', 'shock_othernathazard', 'shock_violenceinsecconf',\n",
            "       'shock_theftofprodassets', 'shock_firemanmade',\n",
            "       'shock_othermanmadehazard', 'cs_hh_assets', 'cs_spent_savings',\n",
            "       'cs_sold_more_animals', 'cs_eat_elsewhere', 'cs_borrowed_or_helped',\n",
            "       'cs_credit', 'cs_borrowed_money', 'cs_changed_school',\n",
            "       'cs_sold_prod_assets', 'cs_no_school', 'cs_reduced_health_exp',\n",
            "       'cs_harv_immature_crops', 'cs_consume_seed_stock',\n",
            "       'cs_decrease_input_exp', 'cs_sold_house', 'cs_begged', 'cs_illegal',\n",
            "       'cs_sold_last_female', 'cs_hh_migration', 'cs_hh_assets_l',\n",
            "       'cs_spent_savings_l', 'cs_sold_more_animals_l', 'cs_eat_elsewhere_l',\n",
            "       'cs_borrowed_or_helped_l', 'cs_credit_l', 'cs_borrowed_money_l',\n",
            "       'cs_changed_school_l', 'cs_sold_prod_assets_l', 'cs_no_school_l',\n",
            "       'cs_reduced_health_exp_l', 'cs_harv_immature_crops_l',\n",
            "       'cs_consume_seed_stock_l', 'cs_decrease_input_exp_l', 'cs_sold_house_l',\n",
            "       'cs_begged_l', 'cs_illegal_l', 'cs_sold_last_female_l',\n",
            "       'cs_hh_migration_l'],\n",
            "      dtype='object')\n",
            "\n"
          ]
        }
      ]
    },
    {
      "cell_type": "code",
      "source": [
        "# %%ag\n",
        "# label_components = [shock_cs[column].astype(str) for column in list(shock_cs.columns) if column.endswith('_l')]\n",
        "# shock_cs['label'] = '|'.join(label_components)"
      ],
      "metadata": {
        "id": "cXtjnICxlH32"
      },
      "execution_count": null,
      "outputs": []
    },
    {
      "cell_type": "markdown",
      "source": [
        "# error occured here which should not have happened, its error on the oblivious itself\n",
        "\n",
        "#column wise string concatenation doesnot happen in pandas\n",
        "\n",
        "---\n",
        "\n",
        "\n",
        "\n"
      ],
      "metadata": {
        "id": "iq5nWv3yARZL"
      }
    },
    {
      "cell_type": "code",
      "source": [
        "%%ag\n",
        "shock_cs['label'] = shock_cs['cs_hh_assets_l']+ shock_cs['cs_spent_savings_l'] + shock_cs['cs_sold_more_animals_l']+ shock_cs['cs_eat_elsewhere_l']+ shock_cs['cs_borrowed_or_helped_l']+ shock_cs['cs_credit_l']+ shock_cs['cs_borrowed_money_l']+ shock_cs['cs_changed_school_l']+ shock_cs['cs_sold_prod_assets_l']+ shock_cs['cs_no_school_l']+ shock_cs['cs_reduced_health_exp_l']+ shock_cs['cs_harv_immature_crops_l']+ shock_cs['cs_consume_seed_stock_l']+ shock_cs['cs_decrease_input_exp_l']+ shock_cs['cs_sold_house_l']+ shock_cs['cs_begged_l']+ shock_cs['cs_illegal_l']+ shock_cs['cs_sold_last_female_l']+ shock_cs['cs_hh_migration_l']"
      ],
      "metadata": {
        "colab": {
          "base_uri": "https://localhost:8080/"
        },
        "id": "lMgt55yRuhC4",
        "outputId": "e4f52ab1-4b47-4d32-8aeb-70668f33526e"
      },
      "execution_count": null,
      "outputs": [
        {
          "output_type": "stream",
          "name": "stdout",
          "text": [
            "\u001b[0;31mValueError\u001b[0m: Tuple should be of size 2 denoting (lower,upper)\n"
          ]
        }
      ]
    },
    {
      "cell_type": "code",
      "source": [
        "#due to this we were not able to create a lable for prediction"
      ],
      "metadata": {
        "id": "Omh5zt_LAn3T"
      },
      "execution_count": null,
      "outputs": []
    },
    {
      "cell_type": "code",
      "source": [
        "%%ag\n",
        "shock_cs['label'] = shock_cs['cs_hh_assets_l'].dt.astype(str)+ shock_cs['cs_spent_savings_l'].astype(str) + shock_cs['cs_sold_more_animals_l'].astype(str)+ shock_cs['cs_eat_elsewhere_l'].astype(str)+ shock_cs['cs_borrowed_or_helped_l'].astype(str)+ shock_cs['cs_credit_l'].astype(str)+ shock_cs['cs_borrowed_money_l'].astype(str)+ shock_cs['cs_changed_school_l'].astype(str)+ shock_cs['cs_sold_prod_assets_l'].astype(str)+ shock_cs['cs_no_school_l'].astype(str)+ shock_cs['cs_reduced_health_exp_l'].astype(str)+ shock_cs['cs_harv_immature_crops_l'].astype(str)+ shock_cs['cs_consume_seed_stock_l'].astype(str)+ shock_cs['cs_decrease_input_exp_l'].astype(str)+ shock_cs['cs_sold_house_l'].astype(str)+ shock_cs['cs_begged_l'].astype(str)+ shock_cs['cs_illegal_l'].astype(str)+ shock_cs['cs_sold_last_female_l'].astype(str)+ shock_cs['cs_hh_migration_l'].astype(str)"
      ],
      "metadata": {
        "colab": {
          "base_uri": "https://localhost:8080/"
        },
        "id": "rhnteda8h2mn",
        "outputId": "82f8efa2-321d-437f-ed84-5bdb62da0d53"
      },
      "execution_count": null,
      "outputs": [
        {
          "output_type": "stream",
          "name": "stdout",
          "text": [
            "\u001b[0;31mKeyError\u001b[0m: <class 'str'>\n"
          ]
        }
      ]
    },
    {
      "cell_type": "code",
      "source": [
        "def return_label(column:str, x:int | float) -> str:\n",
        "  if x==1:\n",
        "    return column\n",
        "  else:\n",
        "    return ''\n",
        "\n",
        "for column in df.columns[range]:\n",
        "  df[f'{column}_ed'] = df[column].map(return_label,eps=)"
      ],
      "metadata": {
        "id": "etH2MUZ5Oy1V"
      },
      "execution_count": null,
      "outputs": []
    },
    {
      "cell_type": "code",
      "source": [
        "%%ag\n",
        "shock_cs['label'] = shock_cs['cs_hh_assets'].apply"
      ],
      "metadata": {
        "colab": {
          "base_uri": "https://localhost:8080/"
        },
        "id": "6SsmPlnJ6nIr",
        "outputId": "d7977aaf-196a-4dd0-8ac1-0c942cea9fa6"
      },
      "execution_count": null,
      "outputs": [
        {
          "output_type": "stream",
          "name": "stdout",
          "text": [
            "\u001b[0;31mNameError\u001b[0m: name 'shock_' is not defined\n"
          ]
        }
      ]
    }
  ]
}